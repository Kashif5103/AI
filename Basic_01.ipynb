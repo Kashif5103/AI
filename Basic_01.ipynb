{
  "nbformat": 4,
  "nbformat_minor": 0,
  "metadata": {
    "colab": {
      "provenance": [],
      "authorship_tag": "ABX9TyPzjyQ/JXPN95vBUcY5ydhh",
      "include_colab_link": true
    },
    "kernelspec": {
      "name": "python3",
      "display_name": "Python 3"
    },
    "language_info": {
      "name": "python"
    }
  },
  "cells": [
    {
      "cell_type": "markdown",
      "metadata": {
        "id": "view-in-github",
        "colab_type": "text"
      },
      "source": [
        "<a href=\"https://colab.research.google.com/github/Kashif5103/AI/blob/main/Basic_01.ipynb\" target=\"_parent\"><img src=\"https://colab.research.google.com/assets/colab-badge.svg\" alt=\"Open In Colab\"/></a>"
      ]
    },
    {
      "cell_type": "markdown",
      "source": [
        "Variable in python"
      ],
      "metadata": {
        "id": "9ZEIa3QPilrC"
      }
    },
    {
      "cell_type": "code",
      "execution_count": null,
      "metadata": {
        "colab": {
          "base_uri": "https://localhost:8080/"
        },
        "id": "S1KrXjvIEzzJ",
        "outputId": "df9e0591-a4b5-4adf-ccea-eff7355f60a1"
      },
      "outputs": [
        {
          "output_type": "stream",
          "name": "stdout",
          "text": [
            "5\n"
          ]
        }
      ],
      "source": [
        "# Craetye a variable kashif and print the value\n",
        "kashif=5\n",
        "print(kashif)\n",
        "# Assign a value to a variable\n",
        "num=6"
      ]
    },
    {
      "cell_type": "code",
      "source": [
        "num1=3.14\n",
        "ch=\"A\"\n",
        "name=\"kashif\"\n",
        "print(num1)\n",
        "print(num1)\n",
        "print(ch)\n",
        "print(name)"
      ],
      "metadata": {
        "colab": {
          "base_uri": "https://localhost:8080/"
        },
        "id": "NliYtLHTFgBG",
        "outputId": "53ac1777-0d71-4ad4-882e-7e76bbdc0168"
      },
      "execution_count": null,
      "outputs": [
        {
          "output_type": "stream",
          "name": "stdout",
          "text": [
            "3.14\n",
            "3.14\n",
            "A\n",
            "kashif\n"
          ]
        }
      ]
    },
    {
      "cell_type": "markdown",
      "source": [
        "**Variable Name in python **\n",
        "\n",
        "\n",
        "1.   we use the (_) in start and and between the variable name.\n",
        "2.  not use the reserve words\n",
        "not use no in the start and not use the reserve words not use no in the start and not\n",
        "\n"
      ],
      "metadata": {
        "id": "NKv35QLsF-Hv"
      }
    },
    {
      "cell_type": "code",
      "source": [
        "_name=\"Hello Kashif\""
      ],
      "metadata": {
        "id": "EsACUwWpFwvd"
      },
      "execution_count": null,
      "outputs": []
    },
    {
      "cell_type": "code",
      "source": [
        "kashif=5"
      ],
      "metadata": {
        "id": "pX_UAblhG60V"
      },
      "execution_count": null,
      "outputs": []
    },
    {
      "cell_type": "code",
      "source": [
        "print(kashif)"
      ],
      "metadata": {
        "colab": {
          "base_uri": "https://localhost:8080/"
        },
        "id": "dj81LK34G-u1",
        "outputId": "edab99af-6101-4737-8fdc-80ccf4e196b6"
      },
      "execution_count": null,
      "outputs": [
        {
          "output_type": "stream",
          "name": "stdout",
          "text": [
            "5\n"
          ]
        }
      ]
    },
    {
      "cell_type": "code",
      "source": [
        "print(name)"
      ],
      "metadata": {
        "colab": {
          "base_uri": "https://localhost:8080/"
        },
        "id": "4X9xizpJHA9k",
        "outputId": "29984235-1051-4372-ecfc-6984e43654b4"
      },
      "execution_count": null,
      "outputs": [
        {
          "output_type": "stream",
          "name": "stdout",
          "text": [
            "kashif\n"
          ]
        }
      ]
    },
    {
      "cell_type": "markdown",
      "source": [
        "**Strings in python**\n",
        "single line comment\n",
        "Multi line comment"
      ],
      "metadata": {
        "id": "MK9ipW1AHM_3"
      }
    },
    {
      "cell_type": "code",
      "source": [
        "print(\"Hello\")\n",
        "print ('kashif')"
      ],
      "metadata": {
        "colab": {
          "base_uri": "https://localhost:8080/"
        },
        "id": "V9WmlICqHEqF",
        "outputId": "9f836c46-4455-4a5e-eae4-854c20de6b1c"
      },
      "execution_count": null,
      "outputs": [
        {
          "output_type": "stream",
          "name": "stdout",
          "text": [
            "Hello\n",
            "kashif\n"
          ]
        }
      ]
    },
    {
      "cell_type": "code",
      "source": [
        "print(\"\"\"kashif kljlkfjilohy nkltghoitrhoihoiugoh\n",
        "joijioujioytujoiujtylkhjlgh\n",
        "gihoityiouytoitoihthouyhthoi\"\"\")"
      ],
      "metadata": {
        "colab": {
          "base_uri": "https://localhost:8080/"
        },
        "id": "dJxJDoxQI2h_",
        "outputId": "dd3179c3-d5ff-45c2-ff51-cf09bcdbbf43"
      },
      "execution_count": null,
      "outputs": [
        {
          "output_type": "stream",
          "name": "stdout",
          "text": [
            "kashif kljlkfjilohy nkltghoitrhoihoiugoh\n",
            "joijioujioytujoiujtylkhjlgh\n",
            "gihoityiouytoitoihthouyhthoi\n"
          ]
        }
      ]
    },
    {
      "cell_type": "markdown",
      "source": [
        "**modify changes in Strings**\n",
        "\n",
        "\n",
        "*   for upper case\n",
        "*   for lower case\n",
        "\n",
        "*   remove white spaces\n",
        "*   Replace\n",
        "\n",
        "*   split string\n",
        "*   List item\n",
        "\n",
        "\n",
        "\n"
      ],
      "metadata": {
        "id": "VSPiyg_5JtL9"
      }
    },
    {
      "cell_type": "code",
      "source": [
        "k= \"  Hello World\"\n",
        "print(k)\n",
        "# perfoam all operation\n",
        "print(k.upper())\n",
        "print(k.lower())\n",
        "print(k.strip())\n",
        "print(k.replace(\"Hello\",\"Hi\"))\n",
        "print(k.split())\n"
      ],
      "metadata": {
        "colab": {
          "base_uri": "https://localhost:8080/"
        },
        "id": "89T4Uzw5JsRL",
        "outputId": "3ef3e97b-8d7e-4326-b8df-fe197df9b295"
      },
      "execution_count": null,
      "outputs": [
        {
          "output_type": "stream",
          "name": "stdout",
          "text": [
            "  Hello World\n",
            "  HELLO WORLD\n",
            "  hello world\n",
            "Hello World\n",
            "  Hi World\n",
            "['Hello', 'World']\n"
          ]
        }
      ]
    },
    {
      "cell_type": "markdown",
      "source": [
        "**List in Python**\n",
        "list are ordered ,changeable aqnd duplicate value .list item are access through index the index start in (0---)"
      ],
      "metadata": {
        "id": "5bOIdBlOMl5t"
      }
    },
    {
      "cell_type": "code",
      "source": [
        "list=['apple', 'banana', 'cherry']\n",
        "list1=[1,2,3,4,5,6,7]\n",
        "list3=[True,False,True]\n",
        "list2=[1,'apple',3.14]\n",
        "print(list)\n",
        "print(list1)\n",
        "print(list3)\n",
        "print(list2)"
      ],
      "metadata": {
        "colab": {
          "base_uri": "https://localhost:8080/"
        },
        "id": "PVFk7f1iKL19",
        "outputId": "f8f0dd5f-3f56-4bc0-88f6-db90444b4d1f"
      },
      "execution_count": null,
      "outputs": [
        {
          "output_type": "stream",
          "name": "stdout",
          "text": [
            "['apple', 'banana', 'cherry']\n",
            "[1, 2, 3, 4, 5, 6, 7]\n",
            "[True, False, True]\n",
            "[1, 'apple', 3.14]\n"
          ]
        }
      ]
    },
    {
      "cell_type": "markdown",
      "source": [
        "for the length of List"
      ],
      "metadata": {
        "id": "gIVsOt2pOPgo"
      }
    },
    {
      "cell_type": "code",
      "source": [
        "print(len(list))"
      ],
      "metadata": {
        "colab": {
          "base_uri": "https://localhost:8080/"
        },
        "id": "t2d6TpUCOLXR",
        "outputId": "6454c0eb-30d1-4ac0-9527-b638fd68bd33"
      },
      "execution_count": null,
      "outputs": [
        {
          "output_type": "stream",
          "name": "stdout",
          "text": [
            "3\n"
          ]
        }
      ]
    },
    {
      "cell_type": "markdown",
      "source": [
        "Access of element in list"
      ],
      "metadata": {
        "id": "P-DsfgqUOdNh"
      }
    },
    {
      "cell_type": "code",
      "source": [
        "print(list[1])"
      ],
      "metadata": {
        "colab": {
          "base_uri": "https://localhost:8080/"
        },
        "id": "vKuZsbOlObnA",
        "outputId": "a14ab098-20f8-4360-b8a7-7623c3404575"
      },
      "execution_count": null,
      "outputs": [
        {
          "output_type": "stream",
          "name": "stdout",
          "text": [
            "banana\n"
          ]
        }
      ]
    },
    {
      "cell_type": "code",
      "source": [
        "print(list3[-2])"
      ],
      "metadata": {
        "colab": {
          "base_uri": "https://localhost:8080/"
        },
        "id": "JQLAbCP7On5B",
        "outputId": "bf9b7699-2d28-4e3c-f5c8-a2f9b262b19a"
      },
      "execution_count": null,
      "outputs": [
        {
          "output_type": "stream",
          "name": "stdout",
          "text": [
            "False\n"
          ]
        }
      ]
    },
    {
      "cell_type": "markdown",
      "source": [
        "**slicing**"
      ],
      "metadata": {
        "id": "IG9Pdm0tPpEc"
      }
    },
    {
      "cell_type": "code",
      "source": [
        "print(list[1:3])"
      ],
      "metadata": {
        "colab": {
          "base_uri": "https://localhost:8080/"
        },
        "id": "1R_zB4CpPm5c",
        "outputId": "d281d930-0641-459e-b13a-d558c1a6335a"
      },
      "execution_count": null,
      "outputs": [
        {
          "output_type": "stream",
          "name": "stdout",
          "text": [
            "['banana', 'cherry']\n"
          ]
        }
      ]
    },
    {
      "cell_type": "markdown",
      "source": [
        "**Add element in the list**"
      ],
      "metadata": {
        "id": "CN7HD72dQGZ0"
      }
    },
    {
      "cell_type": "code",
      "source": [
        "# Add element in the list\n",
        "list.append(\"orange\")\n",
        "print(list)\n",
        "\n",
        "# replace on the index\n",
        "list[1]=\"mango\"\n",
        "print(list)"
      ],
      "metadata": {
        "colab": {
          "base_uri": "https://localhost:8080/"
        },
        "id": "pcg0nruVQEjE",
        "outputId": "078dd770-3e21-47bf-ef37-6a7f3f5831be"
      },
      "execution_count": null,
      "outputs": [
        {
          "output_type": "stream",
          "name": "stdout",
          "text": [
            "['apple', 'banana', 'cherry', 'orange']\n",
            "['apple', 'mango', 'cherry', 'orange']\n"
          ]
        }
      ]
    },
    {
      "cell_type": "markdown",
      "source": [
        "**Revesre a List**"
      ],
      "metadata": {
        "id": "Y68YeaDMRm4v"
      }
    },
    {
      "cell_type": "code",
      "source": [
        "# simple reverse\n",
        "print(list[::-1])\n",
        "# reverse list with slicing\n",
        "print(list1[5:2:-1])"
      ],
      "metadata": {
        "colab": {
          "base_uri": "https://localhost:8080/"
        },
        "id": "VaVQmaX7RuPb",
        "outputId": "b7aeddb5-b2fd-40ac-e5c6-5ecf149123ee"
      },
      "execution_count": null,
      "outputs": [
        {
          "output_type": "stream",
          "name": "stdout",
          "text": [
            "['orange', 'cherry', 'mango', 'apple']\n",
            "[6, 5, 4]\n"
          ]
        }
      ]
    },
    {
      "cell_type": "markdown",
      "source": [
        "**Tuple in Python**\n",
        "Tuple are ordeed and unchangable/immutable and show Duplicate value"
      ],
      "metadata": {
        "id": "vhuzk3bJV4jb"
      }
    },
    {
      "cell_type": "code",
      "source": [
        "T1=(1,2,3,4,5,6,7)"
      ],
      "metadata": {
        "id": "t-d70iNoWLe0"
      },
      "execution_count": null,
      "outputs": []
    },
    {
      "cell_type": "code",
      "source": [
        "print(T1)"
      ],
      "metadata": {
        "colab": {
          "base_uri": "https://localhost:8080/"
        },
        "id": "lgLYFlT3WDOe",
        "outputId": "e4f9fe00-1cd8-4cf1-e0ea-c82aea8ee0de"
      },
      "execution_count": null,
      "outputs": [
        {
          "output_type": "stream",
          "name": "stdout",
          "text": [
            "(1, 2, 3, 4, 5, 6, 7)\n"
          ]
        }
      ]
    },
    {
      "cell_type": "code",
      "source": [
        "# we can handle multiple data\n",
        "T2=(1,'apple',3.14)\n",
        "T3=(\"apple\",\"banana\",\"orange\")\n",
        "T4=(True,False,True)\n",
        "print(T2)\n",
        "print(T3)\n",
        "print(T4)"
      ],
      "metadata": {
        "colab": {
          "base_uri": "https://localhost:8080/"
        },
        "id": "yMV8nCIbV-Yg",
        "outputId": "c30cdbb5-e591-4259-db3c-aa829ad2dcc3"
      },
      "execution_count": null,
      "outputs": [
        {
          "output_type": "stream",
          "name": "stdout",
          "text": [
            "(1, 'apple', 3.14)\n",
            "('apple', 'banana', 'orange')\n",
            "(True, False, True)\n"
          ]
        }
      ]
    },
    {
      "cell_type": "code",
      "source": [
        "# single item in the tuple\n",
        "T5=(1,)\n",
        "print(T5)\n",
        "print(type(T5))"
      ],
      "metadata": {
        "colab": {
          "base_uri": "https://localhost:8080/"
        },
        "id": "WrmTA30Ga6oE",
        "outputId": "e5c818b8-394a-4df3-f7fd-35de42d3230a"
      },
      "execution_count": null,
      "outputs": [
        {
          "output_type": "stream",
          "name": "stdout",
          "text": [
            "(1,)\n",
            "<class 'tuple'>\n"
          ]
        }
      ]
    },
    {
      "cell_type": "markdown",
      "source": [
        "**Sets in Python**\n",
        "Sets are unorder and unchangeable and unindexed."
      ],
      "metadata": {
        "id": "wNwA2m1cZsKl"
      }
    },
    {
      "cell_type": "code",
      "source": [
        "s1={1,2,3,4,5,6,7,5,6,7,9}\n",
        "print(s1)\n",
        "print(type(s1))\n",
        "print(len(s1))"
      ],
      "metadata": {
        "colab": {
          "base_uri": "https://localhost:8080/"
        },
        "id": "sn5W4dbaRzbO",
        "outputId": "e41f35e3-0e71-4969-8f57-80e98cc2e4c1"
      },
      "execution_count": null,
      "outputs": [
        {
          "output_type": "stream",
          "name": "stdout",
          "text": [
            "{1, 2, 3, 4, 5, 6, 7, 9}\n",
            "<class 'set'>\n",
            "8\n"
          ]
        }
      ]
    },
    {
      "cell_type": "markdown",
      "source": [
        "**Dictnory in Python **\n",
        "store value in  kayvalue pair.\n",
        "collecton of unordered,changeable/mutable and not show the duplicate."
      ],
      "metadata": {
        "id": "zX_JV_Iob31X"
      }
    },
    {
      "cell_type": "code",
      "source": [
        "d1={1:'apple',2:'banana',3:'orange'}\n",
        "print(d1)\n",
        "print(type(d1))\n",
        "# make dictonary of a car brand (ford) model (mustang) and the year is 2023\n",
        "car={\n",
        "    \"brand\":\"ford\",\n",
        "    \"model\":\"mustang\",\n",
        "    \"year\":2023\n",
        "}\n",
        "print(car['brand'])\n",
        "print(car['model'])\n",
        "print(car['year'])\n",
        "# and change the value like brand\n",
        "car['brand']=\"toyota\"\n",
        "print(car)"
      ],
      "metadata": {
        "colab": {
          "base_uri": "https://localhost:8080/"
        },
        "id": "AxYvBTl6baxl",
        "outputId": "6fa21d9f-3a4f-455a-e159-fa83313586b6"
      },
      "execution_count": null,
      "outputs": [
        {
          "output_type": "stream",
          "name": "stdout",
          "text": [
            "{1: 'apple', 2: 'banana', 3: 'orange'}\n",
            "<class 'dict'>\n",
            "ford\n",
            "mustang\n",
            "2023\n",
            "{'brand': 'toyota', 'model': 'mustang', 'year': 2023}\n"
          ]
        }
      ]
    },
    {
      "cell_type": "code",
      "source": [],
      "metadata": {
        "id": "b2mfgkz1dvJb"
      },
      "execution_count": null,
      "outputs": []
    }
  ]
}