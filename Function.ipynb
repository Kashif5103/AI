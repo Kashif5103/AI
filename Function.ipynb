{
  "nbformat": 4,
  "nbformat_minor": 0,
  "metadata": {
    "colab": {
      "provenance": [],
      "authorship_tag": "ABX9TyO7fCwbD6II5pJBRrCLx46G",
      "include_colab_link": true
    },
    "kernelspec": {
      "name": "python3",
      "display_name": "Python 3"
    },
    "language_info": {
      "name": "python"
    }
  },
  "cells": [
    {
      "cell_type": "markdown",
      "metadata": {
        "id": "view-in-github",
        "colab_type": "text"
      },
      "source": [
        "<a href=\"https://colab.research.google.com/github/Kashif5103/AI/blob/main/Function.ipynb\" target=\"_parent\"><img src=\"https://colab.research.google.com/assets/colab-badge.svg\" alt=\"Open In Colab\"/></a>"
      ]
    },
    {
      "cell_type": "code",
      "execution_count": null,
      "metadata": {
        "id": "Z08-MeZlL3k-"
      },
      "outputs": [],
      "source": []
    },
    {
      "cell_type": "markdown",
      "source": [
        "**Functioins**\n",
        "\n",
        "In Python Function is a Block of organized ,reuseable code within a name (DRY Don't Repeat Yourself)"
      ],
      "metadata": {
        "id": "KBesZuehaXvt"
      }
    },
    {
      "cell_type": "code",
      "source": [
        "#  Definethe function and for the greeting\n",
        "def greeting():\n",
        "  print(\"Assalam o Alaikum\")\n",
        "# call the functon\n",
        "greeting()"
      ],
      "metadata": {
        "colab": {
          "base_uri": "https://localhost:8080/"
        },
        "id": "PgPoe-LKbIk9",
        "outputId": "640bbc33-dfcd-447f-bb43-46a47f588708"
      },
      "execution_count": 1,
      "outputs": [
        {
          "output_type": "stream",
          "name": "stdout",
          "text": [
            "Assalam o Alaikum\n"
          ]
        }
      ]
    },
    {
      "cell_type": "code",
      "source": [
        "# Define a Function named add two number\n",
        "def Add(a,b):\n",
        "  print(a+b)\n",
        "# call the function\n",
        "Add(10,20)"
      ],
      "metadata": {
        "colab": {
          "base_uri": "https://localhost:8080/"
        },
        "id": "iYlrag-RcVL9",
        "outputId": "48c78a30-1f5a-4925-b85c-b07272c33e9d"
      },
      "execution_count": 2,
      "outputs": [
        {
          "output_type": "stream",
          "name": "stdout",
          "text": [
            "30\n"
          ]
        }
      ]
    },
    {
      "cell_type": "code",
      "source": [
        "# Example of Return of the function\n",
        "def Add(a,b):\n",
        "  return a+b\n",
        "# call the function\n",
        "Add(10,20)"
      ],
      "metadata": {
        "colab": {
          "base_uri": "https://localhost:8080/"
        },
        "id": "o6a7acVoc6Qr",
        "outputId": "efeca786-0017-4ac8-ae37-40593d966e31"
      },
      "execution_count": 3,
      "outputs": [
        {
          "output_type": "execute_result",
          "data": {
            "text/plain": [
              "30"
            ]
          },
          "metadata": {},
          "execution_count": 3
        }
      ]
    },
    {
      "cell_type": "code",
      "source": [
        "# create a function that greate the the that take parameter is name and t5he the parameter is age and then then greating\n",
        "def Great(name,age):\n",
        "  return (\"Hi \"+name+\" and your age is \"+str(age))\n",
        "# call the function\n",
        "Great(\"Ali\",20)"
      ],
      "metadata": {
        "colab": {
          "base_uri": "https://localhost:8080/",
          "height": 35
        },
        "id": "dj9cwxCFepMc",
        "outputId": "5b238cb9-afdc-47e1-e67a-8a15ddb3cccc"
      },
      "execution_count": 7,
      "outputs": [
        {
          "output_type": "execute_result",
          "data": {
            "text/plain": [
              "'Hi Ali and your age is 20'"
            ],
            "application/vnd.google.colaboratory.intrinsic+json": {
              "type": "string"
            }
          },
          "metadata": {},
          "execution_count": 7
        }
      ]
    },
    {
      "cell_type": "code",
      "source": [],
      "metadata": {
        "id": "X8a8V1-7fIcB"
      },
      "execution_count": null,
      "outputs": []
    }
  ]
}