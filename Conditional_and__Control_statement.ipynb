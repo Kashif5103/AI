{
  "nbformat": 4,
  "nbformat_minor": 0,
  "metadata": {
    "colab": {
      "provenance": [],
      "authorship_tag": "ABX9TyOSs858ALCD29IhhlX2pRuP",
      "include_colab_link": true
    },
    "kernelspec": {
      "name": "python3",
      "display_name": "Python 3"
    },
    "language_info": {
      "name": "python"
    }
  },
  "cells": [
    {
      "cell_type": "markdown",
      "metadata": {
        "id": "view-in-github",
        "colab_type": "text"
      },
      "source": [
        "<a href=\"https://colab.research.google.com/github/Kashif5103/AI/blob/main/Conditional_and__Control_statement.ipynb\" target=\"_parent\"><img src=\"https://colab.research.google.com/assets/colab-badge.svg\" alt=\"Open In Colab\"/></a>"
      ]
    },
    {
      "cell_type": "markdown",
      "source": [
        "**IF Statement**"
      ],
      "metadata": {
        "id": "zavfCt6G03y1"
      }
    },
    {
      "cell_type": "code",
      "execution_count": null,
      "metadata": {
        "colab": {
          "base_uri": "https://localhost:8080/"
        },
        "id": "zCZr36_czXJw",
        "outputId": "427a4a28-a5ab-424e-f0e8-243df091446c"
      },
      "outputs": [
        {
          "output_type": "stream",
          "name": "stdout",
          "text": [
            "Enter a number: 12\n",
            "Positive number\n"
          ]
        }
      ],
      "source": [
        "# to check the no is postive and the no is negative and the no is zero\n",
        "num = int(input(\"Enter a number: \"))\n",
        "if num > 0:\n",
        "  print(\"Positive number\")\n",
        "elif num == 0:\n",
        "  print(\"Zero\")\n",
        "else:\n",
        "  print(\"Negative number\")\n"
      ]
    },
    {
      "cell_type": "code",
      "source": [
        "# Student grade system by using conditional statemet\n",
        "a = int(input(\"Enter your marks: \"))\n",
        "if a >= 90:\n",
        "  print(\"A grade\")\n",
        "  print(\"Excellent\")\n",
        "elif a >= 80:\n",
        "  print(\"B grade\")\n",
        "elif a >= 70:\n",
        "  print(\"C grade\")\n",
        "elif a >= 60:\n",
        "  print(\"D grade\")\n",
        "else:\n",
        "  print(\"F grade\")\n",
        "  print(\"Sorry! You Fail\")"
      ],
      "metadata": {
        "colab": {
          "base_uri": "https://localhost:8080/"
        },
        "id": "6J_Acibu1Rv2",
        "outputId": "46a076df-7085-4bdf-8acc-1762a7a66392"
      },
      "execution_count": null,
      "outputs": [
        {
          "output_type": "stream",
          "name": "stdout",
          "text": [
            "Enter your marks: 45\n",
            "F grade\n"
          ]
        }
      ]
    },
    {
      "cell_type": "markdown",
      "source": [
        "**Loops Statement**"
      ],
      "metadata": {
        "id": "TXjc0_Xo3TMF"
      }
    },
    {
      "cell_type": "markdown",
      "source": [
        "**For Loops**\n",
        "\n",
        "we use for loop the the repetative task for the last condition is already know before"
      ],
      "metadata": {
        "id": "NFktrpVg4Seb"
      }
    },
    {
      "cell_type": "code",
      "source": [
        "# example : calculate the average of the list of number\n",
        "list1 = [1, 2, 3, 4, 5, 6, 7, 8, 9, 10]\n",
        "sum = 0\n",
        "for i in list1:\n",
        "  sum = sum + i\n",
        "average = sum/len(list1)\n",
        "print(average)\n",
        "\n"
      ],
      "metadata": {
        "colab": {
          "base_uri": "https://localhost:8080/"
        },
        "id": "wuodoME4153b",
        "outputId": "d929de3e-bb7c-4914-c765-236e571c0ec7"
      },
      "execution_count": null,
      "outputs": [
        {
          "output_type": "stream",
          "name": "stdout",
          "text": [
            "5.5\n"
          ]
        }
      ]
    },
    {
      "cell_type": "code",
      "source": [
        "# calculate the table of by given user input\n",
        "a= int(input(\"Enter a number: \"))\n",
        "for i in range(1, 11):\n",
        "  print(a, \"x\", i, \"=\", a*i)"
      ],
      "metadata": {
        "colab": {
          "base_uri": "https://localhost:8080/"
        },
        "id": "yYbYvROI7eD8",
        "outputId": "7ba54c04-2364-4010-8fe0-60a2d92a0b19"
      },
      "execution_count": null,
      "outputs": [
        {
          "output_type": "stream",
          "name": "stdout",
          "text": [
            "Enter a number: 12\n",
            "12 x 1 = 12\n",
            "12 x 2 = 24\n",
            "12 x 3 = 36\n",
            "12 x 4 = 48\n",
            "12 x 5 = 60\n",
            "12 x 6 = 72\n",
            "12 x 7 = 84\n",
            "12 x 8 = 96\n",
            "12 x 9 = 108\n",
            "12 x 10 = 120\n"
          ]
        }
      ]
    },
    {
      "cell_type": "code",
      "source": [
        "# Printing value from the dictonary like brand (honda) model (Civic), year 2025\n",
        "cars = {\n",
        "  \"brand\": \"Honda\",\n",
        "  \"model\": \"Civic\",\n",
        "  \"year\": 2025\n",
        "}\n",
        "for x in cars:\n",
        "  print(x)"
      ],
      "metadata": {
        "colab": {
          "base_uri": "https://localhost:8080/"
        },
        "id": "Sf6H0AGP9ANY",
        "outputId": "436ae1cf-afa3-4bff-e18c-d51d99faf562"
      },
      "execution_count": null,
      "outputs": [
        {
          "output_type": "stream",
          "name": "stdout",
          "text": [
            "brand\n",
            "model\n",
            "year\n"
          ]
        }
      ]
    },
    {
      "cell_type": "code",
      "source": [
        "# Printing keys from the dictonary like brand (honda) model (Civic), year 2025\n",
        "cars = {\n",
        "  \"brand\": \"Honda\",\n",
        "  \"model\": \"Civic\",\n",
        "  \"year\": 2025\n",
        "}\n",
        "for x in cars:\n",
        "  print(cars[x])\n"
      ],
      "metadata": {
        "colab": {
          "base_uri": "https://localhost:8080/"
        },
        "id": "5jCam8qz-KX0",
        "outputId": "c4035927-f43c-4e7a-bed7-e557bf501018"
      },
      "execution_count": null,
      "outputs": [
        {
          "output_type": "stream",
          "name": "stdout",
          "text": [
            "Honda\n",
            "Civic\n",
            "2025\n"
          ]
        }
      ]
    },
    {
      "cell_type": "code",
      "source": [
        "# Exmple of Finding even or odd from the input then print the result\n",
        "num = int(input(\"Enter a number: \"))\n",
        "if num % 2 == 0:\n",
        "  print(\"Even\")\n",
        "else:\n",
        "  print(\"Odd\")"
      ],
      "metadata": {
        "colab": {
          "base_uri": "https://localhost:8080/"
        },
        "id": "eNuytBlF-jln",
        "outputId": "4fb21b73-e09b-4acf-a14b-077d32a0737f"
      },
      "execution_count": null,
      "outputs": [
        {
          "output_type": "stream",
          "name": "stdout",
          "text": [
            "Enter a number: 13\n",
            "Odd\n"
          ]
        }
      ]
    },
    {
      "cell_type": "markdown",
      "source": [
        "**While Loop**\n",
        "\n",
        "Doing the repative task without known the point6 it repete task till the condition is false"
      ],
      "metadata": {
        "id": "B5CrzomDDohj"
      }
    },
    {
      "cell_type": "code",
      "source": [
        "# calculate the sum of the natural no taken input from thye user\n",
        "num = int(input(\"Enter a number: \"))\n",
        "sum = 0\n",
        "i = 1\n",
        "while i <= num:\n",
        "  sum = sum + i\n",
        "  i = i + 1\n",
        "print(sum)"
      ],
      "metadata": {
        "id": "bJ8VLN5n_W2K",
        "colab": {
          "base_uri": "https://localhost:8080/"
        },
        "outputId": "1a6b3c3f-161c-4d3b-aa91-f32c2285f3c7"
      },
      "execution_count": 1,
      "outputs": [
        {
          "output_type": "stream",
          "name": "stdout",
          "text": [
            "Enter a number: 5\n",
            "15\n"
          ]
        }
      ]
    },
    {
      "cell_type": "code",
      "source": [
        "# taking input from the user and print the no in desending order and and -2 is lessfrom each itearation\n",
        "num = int(input(\"Enter a number: \"))\n",
        "i = num\n",
        "while i >= 0:\n",
        "  print(i)\n",
        "  i = i - 2\n"
      ],
      "metadata": {
        "colab": {
          "base_uri": "https://localhost:8080/"
        },
        "id": "vMggMm_GEpMa",
        "outputId": "a12ddc3a-d300-490a-d9b8-9dab69be7762"
      },
      "execution_count": 3,
      "outputs": [
        {
          "output_type": "stream",
          "name": "stdout",
          "text": [
            "Enter a number: 81\n",
            "81\n",
            "79\n",
            "77\n",
            "75\n",
            "73\n",
            "71\n",
            "69\n",
            "67\n",
            "65\n",
            "63\n",
            "61\n",
            "59\n",
            "57\n",
            "55\n",
            "53\n",
            "51\n",
            "49\n",
            "47\n",
            "45\n",
            "43\n",
            "41\n",
            "39\n",
            "37\n",
            "35\n",
            "33\n",
            "31\n",
            "29\n",
            "27\n",
            "25\n",
            "23\n",
            "21\n",
            "19\n",
            "17\n",
            "15\n",
            "13\n",
            "11\n",
            "9\n",
            "7\n",
            "5\n",
            "3\n",
            "1\n"
          ]
        }
      ]
    },
    {
      "cell_type": "code",
      "source": [
        "# sum of the natural no till the user input\n",
        "num = int(input(\"Enter a number: \"))\n",
        "sum = 0\n",
        "i = 1\n",
        "while i <= num:\n",
        "  sum = sum + i\n",
        "  i = i + 1\n",
        "print(sum)"
      ],
      "metadata": {
        "colab": {
          "base_uri": "https://localhost:8080/"
        },
        "id": "jWB41C2cGb5R",
        "outputId": "315123a0-db8f-4269-ad29-5f9f697cc743"
      },
      "execution_count": 4,
      "outputs": [
        {
          "output_type": "stream",
          "name": "stdout",
          "text": [
            "Enter a number: 15\n",
            "120\n"
          ]
        }
      ]
    },
    {
      "cell_type": "code",
      "source": [
        "# taking input from the user calculate how many time divide by 3 before the value is lessthan and equal to  10\n",
        "\n"
      ],
      "metadata": {
        "colab": {
          "base_uri": "https://localhost:8080/"
        },
        "id": "Pc8OULTCG8he",
        "outputId": "3c501794-d54e-45e6-b0cc-ab46dcc246d9"
      },
      "execution_count": 14,
      "outputs": [
        {
          "output_type": "stream",
          "name": "stdout",
          "text": [
            "Enter a number: 25\n",
            "1\n"
          ]
        }
      ]
    },
    {
      "cell_type": "code",
      "source": [
        "# print the even and odd no from 1 to user input\n",
        "num = int(input(\"Enter a number: \"))\n",
        "i = 1\n",
        "while i <= num:\n",
        "  if i % 2 == 0:\n",
        "    print(\"Even\",i)\n",
        "  else:\n",
        "    print(\"Odd\",i)\n",
        "  i = i + 1\n"
      ],
      "metadata": {
        "colab": {
          "base_uri": "https://localhost:8080/"
        },
        "id": "o4N84bYuHXmf",
        "outputId": "f201ff4b-3367-41b0-e5d5-d1d2012d9721"
      },
      "execution_count": 16,
      "outputs": [
        {
          "output_type": "stream",
          "name": "stdout",
          "text": [
            "Enter a number: 45\n",
            "Odd 1\n",
            "Even 2\n",
            "Odd 3\n",
            "Even 4\n",
            "Odd 5\n",
            "Even 6\n",
            "Odd 7\n",
            "Even 8\n",
            "Odd 9\n",
            "Even 10\n",
            "Odd 11\n",
            "Even 12\n",
            "Odd 13\n",
            "Even 14\n",
            "Odd 15\n",
            "Even 16\n",
            "Odd 17\n",
            "Even 18\n",
            "Odd 19\n",
            "Even 20\n",
            "Odd 21\n",
            "Even 22\n",
            "Odd 23\n",
            "Even 24\n",
            "Odd 25\n",
            "Even 26\n",
            "Odd 27\n",
            "Even 28\n",
            "Odd 29\n",
            "Even 30\n",
            "Odd 31\n",
            "Even 32\n",
            "Odd 33\n",
            "Even 34\n",
            "Odd 35\n",
            "Even 36\n",
            "Odd 37\n",
            "Even 38\n",
            "Odd 39\n",
            "Even 40\n",
            "Odd 41\n",
            "Even 42\n",
            "Odd 43\n",
            "Even 44\n",
            "Odd 45\n"
          ]
        }
      ]
    },
    {
      "cell_type": "code",
      "source": [],
      "metadata": {
        "id": "Ui0ct11FKNb7"
      },
      "execution_count": null,
      "outputs": []
    }
  ]
}