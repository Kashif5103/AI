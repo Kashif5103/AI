{
  "nbformat": 4,
  "nbformat_minor": 0,
  "metadata": {
    "colab": {
      "provenance": [],
      "authorship_tag": "ABX9TyPlnlnZx/IBFtLmwEP4SH/x",
      "include_colab_link": true
    },
    "kernelspec": {
      "name": "python3",
      "display_name": "Python 3"
    },
    "language_info": {
      "name": "python"
    }
  },
  "cells": [
    {
      "cell_type": "markdown",
      "metadata": {
        "id": "view-in-github",
        "colab_type": "text"
      },
      "source": [
        "<a href=\"https://colab.research.google.com/github/Kashif5103/AI/blob/main/Operators.ipynb\" target=\"_parent\"><img src=\"https://colab.research.google.com/assets/colab-badge.svg\" alt=\"Open In Colab\"/></a>"
      ]
    },
    {
      "cell_type": "markdown",
      "source": [
        "**Operator**"
      ],
      "metadata": {
        "id": "Yo6l3jKxWIeX"
      }
    },
    {
      "cell_type": "code",
      "source": [
        "# Adding two numbers\n",
        "a = 10\n",
        "b = 5\n",
        "sum_result = a + b\n",
        "print(\"Sum:\", sum_result)\n",
        "\n",
        "# Subtracting two numbers\n",
        "difference_result = a - b\n",
        "print(\"Difference:\", difference_result)\n"
      ],
      "metadata": {
        "colab": {
          "base_uri": "https://localhost:8080/"
        },
        "id": "MjJXIDyQWGBv",
        "outputId": "c71af30e-626b-450e-940d-aa4b4ccf24a1"
      },
      "execution_count": null,
      "outputs": [
        {
          "output_type": "stream",
          "name": "stdout",
          "text": [
            "Sum: 15\n",
            "Difference: 5\n"
          ]
        }
      ]
    },
    {
      "cell_type": "code",
      "source": [
        " # Multiplying two numbers\n",
        "x = 7\n",
        "y = 3\n",
        "product_result = x * y\n",
        "print(\"Product:\", product_result)\n",
        "\n",
        "# Dividing two numbers\n",
        "quotient_result = x / y\n",
        "print(\"Quotient:\", quotient_result)\n"
      ],
      "metadata": {
        "colab": {
          "base_uri": "https://localhost:8080/"
        },
        "id": "W8ed7rJBWTub",
        "outputId": "8cbf2491-4637-474c-c3ae-75cf6ff661da"
      },
      "execution_count": null,
      "outputs": [
        {
          "output_type": "stream",
          "name": "stdout",
          "text": [
            "Product: 21\n",
            "Quotient: 2.3333333333333335\n"
          ]
        }
      ]
    },
    {
      "cell_type": "code",
      "source": [
        "# Modulus operation\n",
        "m = 9\n",
        "n = 4\n",
        "modulus_result = m % n\n",
        "print(\"Modulus:\", modulus_result)\n",
        "\n",
        "# Exponentiation\n",
        "base = 2\n",
        "exponent = 3\n",
        "exponentiation_result = base ** exponent\n",
        "print(\"Exponentiation:\", exponentiation_result)\n"
      ],
      "metadata": {
        "colab": {
          "base_uri": "https://localhost:8080/"
        },
        "id": "8TzFA9RbWhov",
        "outputId": "d7854f52-f439-4b32-a453-77ff6c917da2"
      },
      "execution_count": null,
      "outputs": [
        {
          "output_type": "stream",
          "name": "stdout",
          "text": [
            "Modulus: 1\n",
            "Exponentiation: 8\n"
          ]
        }
      ]
    },
    {
      "cell_type": "markdown",
      "source": [
        "**Operator Using of artmetic operator**\n",
        "using operator calculte the area of rectangle"
      ],
      "metadata": {
        "id": "8GgyrPqoSO8r"
      }
    },
    {
      "cell_type": "code",
      "execution_count": null,
      "metadata": {
        "colab": {
          "base_uri": "https://localhost:8080/"
        },
        "id": "TKBxRD2aSBES",
        "outputId": "8681fecf-ae07-4218-cab9-8064dc8d65b1"
      },
      "outputs": [
        {
          "output_type": "stream",
          "name": "stdout",
          "text": [
            "8.75\n"
          ]
        }
      ],
      "source": [
        "# langth of the rectangle\n",
        "length=2.5\n",
        "# width of the rectangle\n",
        "width=3.5\n",
        "# calculate the area of rectangle\n",
        "area=length*width\n",
        "# print area of the rectangle\n",
        "print(area)"
      ]
    },
    {
      "cell_type": "markdown",
      "source": [
        "**Logical operator**"
      ],
      "metadata": {
        "id": "Bp15fdEYXDqA"
      }
    },
    {
      "cell_type": "code",
      "source": [
        "# Using the and operator\n",
        "a = True\n",
        "b = False\n",
        "\n",
        "result = a and b\n",
        "print(\"a and b:\", result)  # False, because one of the operands is False\n"
      ],
      "metadata": {
        "colab": {
          "base_uri": "https://localhost:8080/"
        },
        "id": "MJ1VvNxBTkgO",
        "outputId": "627576b8-ccac-4bb8-c100-391db7c294f0"
      },
      "execution_count": null,
      "outputs": [
        {
          "output_type": "stream",
          "name": "stdout",
          "text": [
            "a and b: False\n"
          ]
        }
      ]
    },
    {
      "cell_type": "code",
      "source": [
        "# Using the or operator\n",
        "x = True\n",
        "y = False\n",
        "\n",
        "result = x or y\n",
        "print(\"x or y:\", result)  # True, because one of the operands is True\n"
      ],
      "metadata": {
        "colab": {
          "base_uri": "https://localhost:8080/"
        },
        "id": "RwsVGkzzXOdh",
        "outputId": "1c18c670-ef89-4c56-8108-9c46cd7afbed"
      },
      "execution_count": null,
      "outputs": [
        {
          "output_type": "stream",
          "name": "stdout",
          "text": [
            "x or y: True\n"
          ]
        }
      ]
    },
    {
      "cell_type": "code",
      "source": [
        "# Using the not operator\n",
        "flag = True\n",
        "\n",
        "result = not flag\n",
        "print(\"not flag:\", result)  # False, because not inverts the boolean value\n"
      ],
      "metadata": {
        "colab": {
          "base_uri": "https://localhost:8080/"
        },
        "id": "UXlQ7UxMXSS4",
        "outputId": "7cf15697-5797-4039-9fbe-19d71f555e97"
      },
      "execution_count": null,
      "outputs": [
        {
          "output_type": "stream",
          "name": "stdout",
          "text": [
            "not flag: False\n"
          ]
        }
      ]
    },
    {
      "cell_type": "markdown",
      "source": [
        "**Comperasion Operator**"
      ],
      "metadata": {
        "id": "viByIH8Dg6Ht"
      }
    },
    {
      "cell_type": "code",
      "source": [
        "#  Using the Greater then operator\n",
        "x = 10\n",
        "y = 5\n",
        "\n",
        "result = x > y\n",
        "print(\"x > y:\", result)  # True, because x is greater than y"
      ],
      "metadata": {
        "colab": {
          "base_uri": "https://localhost:8080/"
        },
        "id": "xHl5NIBcXY9Y",
        "outputId": "bf2940ad-05ed-4f92-bf2a-17dd657cdd96"
      },
      "execution_count": null,
      "outputs": [
        {
          "output_type": "stream",
          "name": "stdout",
          "text": [
            "x > y: True\n"
          ]
        }
      ]
    },
    {
      "cell_type": "code",
      "source": [
        "#  Using the less then operator\n",
        "x = 10\n",
        "y = 5\n",
        "\n",
        "result = x < y\n",
        "print(\"x < y:\", result)  # False, because x is not less than y"
      ],
      "metadata": {
        "colab": {
          "base_uri": "https://localhost:8080/"
        },
        "id": "P6fJckIpX3cA",
        "outputId": "4d30febd-f30f-44d1-8992-e7dfe3aa5e7c"
      },
      "execution_count": null,
      "outputs": [
        {
          "output_type": "stream",
          "name": "stdout",
          "text": [
            "x < y: False\n"
          ]
        }
      ]
    },
    {
      "cell_type": "code",
      "source": [
        "  #  Using the Greater then or equal to operator\n",
        "  x = 10\n",
        "  y = 5\n",
        "\n",
        "  result = x >= y\n",
        "  print(\"x >= y:\", result)  # True, because x is greater than or equal to y"
      ],
      "metadata": {
        "colab": {
          "base_uri": "https://localhost:8080/"
        },
        "id": "Y57ODMdNYCRA",
        "outputId": "8ea5363d-cb2d-4a1b-de36-4faa27dc4879"
      },
      "execution_count": null,
      "outputs": [
        {
          "output_type": "stream",
          "name": "stdout",
          "text": [
            "x >= y: True\n"
          ]
        }
      ]
    },
    {
      "cell_type": "code",
      "source": [
        "  #  Using the less  then or equal to operator\n",
        "  x = 10\n",
        "  y = 5\n",
        "\n",
        "  result = x <= y\n",
        "  print(\"x <= y:\", result)  # False, because x is not less than or equal to y"
      ],
      "metadata": {
        "id": "FxFOAP4UYLp4",
        "colab": {
          "base_uri": "https://localhost:8080/"
        },
        "outputId": "bb51c0cc-1252-468b-e662-0581474ad142"
      },
      "execution_count": null,
      "outputs": [
        {
          "output_type": "stream",
          "name": "stdout",
          "text": [
            "x <= y: False\n"
          ]
        }
      ]
    },
    {
      "cell_type": "code",
      "source": [
        "  #  Using the equal to operator\n",
        "  x = 10\n",
        "  y = 5\n",
        "\n",
        "  result = x == y\n",
        "  print(\"x == y:\", result)  # False, because x is not equal to y"
      ],
      "metadata": {
        "colab": {
          "base_uri": "https://localhost:8080/"
        },
        "id": "BA3G6lQpYkDy",
        "outputId": "a0c4bcdb-f714-48c8-ae44-ca2d2c8de20f"
      },
      "execution_count": null,
      "outputs": [
        {
          "output_type": "stream",
          "name": "stdout",
          "text": [
            "x == y: False\n"
          ]
        }
      ]
    },
    {
      "cell_type": "markdown",
      "source": [
        "**Compersation Operator**"
      ],
      "metadata": {
        "id": "JLn3C8IhbjMV"
      }
    },
    {
      "cell_type": "code",
      "source": [
        "# Using and with less than and greater than\n",
        "a = 10\n",
        "b = 20\n",
        "c = 30\n",
        "\n",
        "result = (a < b) and (b < c)\n",
        "print(\"(a < b) and (b < c):\", result)  # True, because both conditions are True\n"
      ],
      "metadata": {
        "colab": {
          "base_uri": "https://localhost:8080/"
        },
        "id": "Ks1xwP6NbrvI",
        "outputId": "7409fd74-e43e-434c-aff5-835bdfc17bac"
      },
      "execution_count": null,
      "outputs": [
        {
          "output_type": "stream",
          "name": "stdout",
          "text": [
            "(a < b) and (b < c): True\n"
          ]
        }
      ]
    },
    {
      "cell_type": "code",
      "source": [
        "# Using or with less than and greater than\n",
        "x = 5\n",
        "y = 15\n",
        "z = 10\n",
        "\n",
        "result = (x > y) or (y > z)\n",
        "print(\"(x > y) or (y > z):\", result)  # True, because one of the conditions is True\n"
      ],
      "metadata": {
        "colab": {
          "base_uri": "https://localhost:8080/"
        },
        "id": "bmHxBV8VbyXn",
        "outputId": "4d0aef3d-72e9-408f-abdd-f6cc9471d667"
      },
      "execution_count": null,
      "outputs": [
        {
          "output_type": "stream",
          "name": "stdout",
          "text": [
            "(x > y) or (y > z): True\n"
          ]
        }
      ]
    },
    {
      "cell_type": "code",
      "source": [
        "# Using not with less than and greater than\n",
        "p = 25\n",
        "q = 30\n",
        "\n",
        "result = not (p > q)\n",
        "print(\"not (p > q):\", result)  # True, because p is not greater than q\n"
      ],
      "metadata": {
        "colab": {
          "base_uri": "https://localhost:8080/"
        },
        "id": "Cx8918vDb8Sw",
        "outputId": "46c70964-a050-4eea-a0c8-180d2ab4c822"
      },
      "execution_count": null,
      "outputs": [
        {
          "output_type": "stream",
          "name": "stdout",
          "text": [
            "not (p > q): True\n"
          ]
        }
      ]
    },
    {
      "cell_type": "code",
      "source": [
        "# using less than and greator than in the and or or operator\n",
        "x= 10\n",
        "y=5\n",
        "x<y or x>y\n"
      ],
      "metadata": {
        "colab": {
          "base_uri": "https://localhost:8080/"
        },
        "id": "sTsV5Vu8YrYh",
        "outputId": "cba88a7f-a0bb-4c32-ae04-5814414535fd"
      },
      "execution_count": null,
      "outputs": [
        {
          "output_type": "execute_result",
          "data": {
            "text/plain": [
              "True"
            ]
          },
          "metadata": {},
          "execution_count": 15
        }
      ]
    },
    {
      "cell_type": "code",
      "source": [
        "x>y and x>y"
      ],
      "metadata": {
        "colab": {
          "base_uri": "https://localhost:8080/"
        },
        "id": "aujm4wk8ZrMH",
        "outputId": "3bcd6337-7e6d-4d41-d2bd-2d57bdfec776"
      },
      "execution_count": null,
      "outputs": [
        {
          "output_type": "execute_result",
          "data": {
            "text/plain": [
              "True"
            ]
          },
          "metadata": {},
          "execution_count": 16
        }
      ]
    },
    {
      "cell_type": "markdown",
      "source": [
        "**Membership operator**"
      ],
      "metadata": {
        "id": "Tnk7dhBccM9U"
      }
    },
    {
      "cell_type": "code",
      "source": [
        "# using in as as membership operator\n",
        "\"cat\" in ['cat', 'dog', 'bird']\n"
      ],
      "metadata": {
        "colab": {
          "base_uri": "https://localhost:8080/"
        },
        "id": "np0fULRrZt6h",
        "outputId": "3c7743e2-6a0a-49a4-c522-d56a1f0b3ea7"
      },
      "execution_count": null,
      "outputs": [
        {
          "output_type": "execute_result",
          "data": {
            "text/plain": [
              "True"
            ]
          },
          "metadata": {},
          "execution_count": 20
        }
      ]
    },
    {
      "cell_type": "code",
      "source": [
        "# using not in as as membership operator\\\n",
        "\"cat\" not in ['cat', 'dog', 'bird']\n",
        "\"cat\" not in ['animal', 'dog', 'bird']"
      ],
      "metadata": {
        "colab": {
          "base_uri": "https://localhost:8080/"
        },
        "id": "dOC5OLbBct1n",
        "outputId": "3e787363-3fd4-4ec7-be5e-4f1a2e9a0c0a"
      },
      "execution_count": null,
      "outputs": [
        {
          "output_type": "execute_result",
          "data": {
            "text/plain": [
              "True"
            ]
          },
          "metadata": {},
          "execution_count": 22
        }
      ]
    },
    {
      "cell_type": "code",
      "source": [],
      "metadata": {
        "id": "rOAC3GORc-Tz"
      },
      "execution_count": null,
      "outputs": []
    },
    {
      "cell_type": "markdown",
      "source": [
        "List of items convert into upper and lower"
      ],
      "metadata": {
        "id": "U7U_Jamsd_S2"
      }
    },
    {
      "cell_type": "code",
      "source": [
        "# List of strings\n",
        "items = ['ApPlE', 'bAnAnA', 'ChErRy']\n",
        "\n",
        "# Convert to both upper case and lower case\n",
        "upper_case_items = [item.upper() for item in items]\n",
        "lower_case_items = [item.lower() for item in items]\n",
        "\n",
        "print(\"Original items:\", items)\n",
        "print(\"Upper case items:\", upper_case_items)\n",
        "print(\"Lower case items:\", lower_case_items)\n"
      ],
      "metadata": {
        "colab": {
          "base_uri": "https://localhost:8080/"
        },
        "id": "im2N1FhDeI60",
        "outputId": "cf5214cf-f52b-4c94-e40d-1831010d16f4"
      },
      "execution_count": null,
      "outputs": [
        {
          "output_type": "stream",
          "name": "stdout",
          "text": [
            "Original items: ['ApPlE', 'bAnAnA', 'ChErRy']\n",
            "Upper case items: ['APPLE', 'BANANA', 'CHERRY']\n",
            "Lower case items: ['apple', 'banana', 'cherry']\n"
          ]
        }
      ]
    },
    {
      "cell_type": "code",
      "source": [
        "# using add operator on the string\n",
        "str1 = \"Hello\"\n",
        "str2 = \"World\"\n",
        "\n",
        "result = str1 + \" \" + str2\n",
        "print(\"Concatenation:\", result)  # \"Hello World\"\n"
      ],
      "metadata": {
        "colab": {
          "base_uri": "https://localhost:8080/"
        },
        "id": "1ND5Ev8ieKD4",
        "outputId": "60b0f219-099f-4db0-a342-45ba4df397b4"
      },
      "execution_count": null,
      "outputs": [
        {
          "output_type": "stream",
          "name": "stdout",
          "text": [
            "Concatenation: Hello World\n"
          ]
        }
      ]
    },
    {
      "cell_type": "code",
      "source": [
        "# using Multiplicaton operator on the string\n",
        "str1 = \"Hello\"\n",
        "\n",
        "result = str1 * 3\n",
        "print(\"Multiplication:\", result)  # \"HelloHelloHello\"\n",
        "\n"
      ],
      "metadata": {
        "colab": {
          "base_uri": "https://localhost:8080/"
        },
        "id": "IsDUtbWFf0v_",
        "outputId": "a2788858-5026-4a37-c6e9-fc2e9a3d8b8c"
      },
      "execution_count": null,
      "outputs": [
        {
          "output_type": "stream",
          "name": "stdout",
          "text": [
            "Multiplication: HelloHelloHello\n"
          ]
        }
      ]
    },
    {
      "cell_type": "code",
      "source": [
        "# using the substration on the string\n",
        "str1 = \"Hello World\"\n",
        "str2 = \"World\"\n",
        "\n",
        "result = str1.replace(str2, \"\")\n",
        "print(\"Subtraction (conceptual):\", result)  # \"Hello \"\n"
      ],
      "metadata": {
        "id": "43MYhdQQgNnK"
      },
      "execution_count": null,
      "outputs": []
    }
  ]
}